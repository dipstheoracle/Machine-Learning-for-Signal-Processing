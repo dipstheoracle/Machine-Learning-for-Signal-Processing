{
 "cells": [
  {
   "cell_type": "markdown",
   "metadata": {},
   "source": [
    "# Problem Statement\n",
    "\n",
    "#### The emotion_classification dataset has training/test subject faces with happy/sad emotion are provided in\n",
    "#### the data. Each image is of 100×100 matrix. Perform PCA to reduce the dimension from\n",
    "#### 10000 to K = 12. Implement a 2 hidden layer deep neural network (each layer containing\n",
    "#### 10 neurons) to classify the happy/sad classes. Use the cross entropy error function with\n",
    "#### softmax output activations and ReLU hidden layer activations. Perform 20 iterations of\n",
    "#### back propagation and plot the error on training data as a function of the iteration. What\n",
    "#### is the test accuracy for this case and how does it change if the number of hiddent neurons\n",
    "#### is increased to 15. Does momentum (with a momentum factor of 0.9) improve the learning\n",
    "#### process ? Provide your detailed analysis."
   ]
  },
  {
   "cell_type": "markdown",
   "metadata": {},
   "source": [
    "# Importing Libraries"
   ]
  },
  {
   "cell_type": "code",
   "execution_count": 453,
   "metadata": {},
   "outputs": [],
   "source": [
    "import os\n",
    "import numpy as np\n",
    "import matplotlib.image as mpimg\n",
    "import matplotlib.pyplot as plt"
   ]
  },
  {
   "cell_type": "markdown",
   "metadata": {},
   "source": [
    "# Load Images"
   ]
  },
  {
   "cell_type": "code",
   "execution_count": 454,
   "metadata": {},
   "outputs": [],
   "source": [
    "def load_images(folder):\n",
    "    label = []\n",
    "    X=[]\n",
    "    for filename in os.listdir(folder):\n",
    "        img = mpimg.imread(os.path.join(folder, filename))\n",
    "        label.append(filename.split('.')[1])\n",
    "        if img is not None:\n",
    "            X.append(np.array(img/255.0).flatten())\n",
    "            \n",
    "    label = np.array(label)\n",
    "    X = np.array(X)\n",
    "    y = np.array([1 if 'happy' in name else 0 for name in label])\n",
    "\n",
    "    return X,y\n"
   ]
  },
  {
   "cell_type": "code",
   "execution_count": 437,
   "metadata": {},
   "outputs": [],
   "source": [
    "trainfolder=\"./emotion_classification/train\"\n",
    "[train_X,train_label] = load_images(trainfolder)\n",
    "\n",
    "testfolder=\"./emotion_classification/test\"\n",
    "[test_X,test_label] = load_images(testfolder)"
   ]
  },
  {
   "cell_type": "markdown",
   "metadata": {},
   "source": [
    "#  Standardizing Data"
   ]
  },
  {
   "cell_type": "code",
   "execution_count": 457,
   "metadata": {},
   "outputs": [],
   "source": [
    "mean1 = train_X.mean(axis=0)\n",
    "train_X = train_X - mean1\n",
    "\n",
    "mean2 = test_X.mean(axis=0)\n",
    "test_X = test_X - mean2"
   ]
  },
  {
   "cell_type": "code",
   "execution_count": 439,
   "metadata": {},
   "outputs": [
    {
     "data": {
      "text/plain": [
       "(20, 10201)"
      ]
     },
     "execution_count": 439,
     "metadata": {},
     "output_type": "execute_result"
    }
   ],
   "source": [
    "train_X.shape"
   ]
  },
  {
   "cell_type": "code",
   "execution_count": 458,
   "metadata": {},
   "outputs": [
    {
     "data": {
      "text/plain": [
       "(10, 10201)"
      ]
     },
     "execution_count": 458,
     "metadata": {},
     "output_type": "execute_result"
    }
   ],
   "source": [
    "test_X.shape"
   ]
  },
  {
   "cell_type": "markdown",
   "metadata": {},
   "source": [
    "### PCA"
   ]
  },
  {
   "cell_type": "code",
   "execution_count": 440,
   "metadata": {},
   "outputs": [],
   "source": [
    "from sklearn.decomposition import PCA\n",
    "pca = PCA(n_components = 12)\n",
    "projected_train_x = (pca.fit_transform(train_X))\n",
    "projected_test_x = pca.transform(test_X)"
   ]
  },
  {
   "cell_type": "code",
   "execution_count": 459,
   "metadata": {},
   "outputs": [
    {
     "data": {
      "text/plain": [
       "(20, 12)"
      ]
     },
     "execution_count": 459,
     "metadata": {},
     "output_type": "execute_result"
    }
   ],
   "source": [
    "projected_train_x.shape"
   ]
  },
  {
   "cell_type": "code",
   "execution_count": 460,
   "metadata": {},
   "outputs": [
    {
     "data": {
      "text/plain": [
       "(10, 12)"
      ]
     },
     "execution_count": 460,
     "metadata": {},
     "output_type": "execute_result"
    }
   ],
   "source": [
    "projected_test_x.shape"
   ]
  },
  {
   "cell_type": "markdown",
   "metadata": {},
   "source": [
    "### Normalizing PCA output"
   ]
  },
  {
   "cell_type": "code",
   "execution_count": 443,
   "metadata": {},
   "outputs": [],
   "source": [
    "from sklearn import preprocessing\n",
    "standard_scaler = preprocessing.StandardScaler()\n",
    "projected_train_x = standard_scaler.fit_transform(projected_train_x)\n",
    "projected_test_x = standard_scaler.fit_transform(projected_test_x)\n"
   ]
  },
  {
   "cell_type": "code",
   "execution_count": 444,
   "metadata": {},
   "outputs": [
    {
     "data": {
      "text/plain": [
       "(20, 12)"
      ]
     },
     "execution_count": 444,
     "metadata": {},
     "output_type": "execute_result"
    }
   ],
   "source": [
    "projected_train_x.shape"
   ]
  },
  {
   "cell_type": "code",
   "execution_count": 445,
   "metadata": {},
   "outputs": [
    {
     "data": {
      "text/plain": [
       "(10, 12)"
      ]
     },
     "execution_count": 445,
     "metadata": {},
     "output_type": "execute_result"
    }
   ],
   "source": [
    "projected_test_x.shape"
   ]
  },
  {
   "cell_type": "markdown",
   "metadata": {},
   "source": [
    "# Multi Layer Perceptron"
   ]
  },
  {
   "cell_type": "code",
   "execution_count": 470,
   "metadata": {},
   "outputs": [],
   "source": [
    "class MultiLayerPerceptron():\n",
    "    def __init__(self,layers=[12,10,10,2], lr=0.0001,mf=0,iterations=20,optimizer='gradient_descent'):\n",
    "        self.layers = layers\n",
    "        self.lr = lr\n",
    "        self.mf = mf\n",
    "        self.iterations = iterations\n",
    "        self.optimizer = optimizer\n",
    "        self.params = {}\n",
    "        self.costs = []\n",
    "\n",
    "        \n",
    "    def initialize_weights(self):\n",
    "        np.random.seed(7)\n",
    "        params = self.params\n",
    "        layers = self.layers\n",
    "        params['W1'] = np.random.randn(layers[1],layers[0]) / np.sqrt(layers[0])\n",
    "        params['b1'] = np.zeros((layers[1],1))\n",
    "        params['W2'] = np.random.randn(layers[2],layers[1]) / np.sqrt(layers[1])\n",
    "        params['b2'] = np.zeros((layers[2],1))\n",
    "        params['W3'] = np.random.randn(layers[3],layers[2]) / np.sqrt(layers[2])\n",
    "        params['b3'] = np.zeros((layers[3],1))\n",
    "\n",
    "        params['V1'] = np.zeros((layers[1],layers[0]))\n",
    "        params['c1'] = np.zeros((layers[1],1))\n",
    "        params['V2'] = np.zeros((layers[2],layers[1]))\n",
    "        params['c2'] = np.zeros((layers[2],1))\n",
    "        params['V3'] = np.zeros((layers[3],layers[2]))\n",
    "        params['c3'] = np.zeros((layers[3],1))\n",
    "        \n",
    "    def relu(self,Z,derivative=False):\n",
    "        if derivative==False:\n",
    "            return np.maximum(0,Z)\n",
    "        else:\n",
    "            Z[Z>0]=1\n",
    "            Z[Z<=0]=0\n",
    "            return Z\n",
    "        \n",
    "    def one_hot_encode(self,y1):\n",
    "        y_one_hot = np.zeros((len(y1),2))\n",
    "        for i,value in enumerate(y1):\n",
    "            y_one_hot[i][value] = 1\n",
    "\n",
    "        return y_one_hot\n",
    "\n",
    "    def softmax(self,Z):\n",
    "        \"\"\"Compute softmax values for each sets of scores in x.\"\"\"\n",
    "        e_Z = np.exp(Z - np.max(Z))\n",
    "        return e_Z / e_Z.sum()\n",
    "    \n",
    "\n",
    "    def cost_function(self,y_pred,one_hot_y):\n",
    "        total = one_hot_y * np.log(y_pred + 1e-8)\n",
    "        return -1*(total.sum())\n",
    "    \n",
    "    def forward_pass(self,Z):\n",
    "        params = self.params\n",
    "        \n",
    "        # input layer to hidden layer 1\n",
    "        params['Z1'] = np.dot(params['W1'],Z) + params['b1']\n",
    "        params['A1'] = self.relu(params['Z1'])\n",
    "\n",
    "        # hidden layer 1 to hidden layer 2\n",
    "        params['Z2'] = np.dot(params['W2'],params['A1']) + params['b2']\n",
    "        params['A2'] = self.relu(params['Z2'])\n",
    "\n",
    "        # hidden layer 2 to output layer\n",
    "        params['Z3'] = np.dot(params['W3'],params['A2'])  + params['b3']\n",
    "        params['A3'] = self.softmax(params['Z3'])\n",
    "        return params['A3']\n",
    "        \n",
    "        \n",
    "        \n",
    "        \n",
    "    def backward_pass(self,y_train,y_pred,Z):\n",
    "        params = self.params\n",
    "        \n",
    "        # Calculate W3 update\n",
    "        error = (y_train - y_pred)\n",
    "        dcost_dw3 = np.dot(error, params['A2'].T)\n",
    "        dcost_db3 = error.sum(axis=1,keepdims=True)\n",
    "        \n",
    "        # Calculate W2 update\n",
    "        error_2 = np.multiply( np.dot(params['W3'].T, error), self.relu(params['Z2'], derivative=True) )\n",
    "        dcost_dw2 = np.dot(error_2, params['A1'].T)\n",
    "        dcost_db2 = error_2.sum(axis=1,keepdims=True)\n",
    "\n",
    "        \n",
    "        # Calculate W1 update\n",
    "        error_3 = np.multiply( np.dot(params['W2'].T, error_2), self.relu(params['Z1'], derivative=True) )\n",
    "        dcost_dw1 = np.dot(error_3, Z)\n",
    "        dcost_db1 = error_3.sum(axis=1,keepdims=True)\n",
    "\n",
    "    \n",
    "        if self.optimizer == 'gradient_descent':\n",
    "            change_W1 = self.lr * dcost_dw1\n",
    "            change_b1 = self.lr * dcost_db1\n",
    "            change_W2 = self.lr * dcost_dw2\n",
    "            change_b2 = self.lr * dcost_db2\n",
    "            change_W3 = self.lr * dcost_dw3\n",
    "            change_b3 = self.lr * dcost_db3\n",
    "\n",
    "        if self.optimizer == 'momentum':\n",
    "            change_W1 = self.lr * dcost_dw1 + self.mf * params['V1']\n",
    "            change_W2 = self.lr * dcost_dw2 + self.mf * params['V2']\n",
    "            change_W3 = self.lr * dcost_dw3 + self.mf * params['V3']\n",
    "            change_b1 = self.lr * dcost_db1 + self.mf * params['c1']\n",
    "            change_b2 = self.lr * dcost_db2 + self.mf * params['c2']\n",
    "            change_b3 = self.lr * dcost_db3 + self.mf * params['c3']\n",
    "            \n",
    "            params['V1'] = change_W1\n",
    "            params['V2'] = change_W2\n",
    "            params['V3'] = change_W3\n",
    "            params['c1'] = change_b1\n",
    "            params['c2'] = change_b2\n",
    "            params['c3'] = change_b3\n",
    "            \n",
    "\n",
    "        params['W1'] = params['W1'] - change_W1\n",
    "        params['W2'] = params['W2'] - change_W2\n",
    "        params['W3'] = params['W3'] - change_W3\n",
    "        params['b1'] = params['b1'] - change_b1\n",
    "        params['b2'] = params['b2'] - change_b2\n",
    "        params['b3'] = params['b3'] - change_b3\n",
    "        \n",
    "\n",
    "        \n",
    "    def fit(self,Z,y1):\n",
    "        self.initialize_weights()\n",
    "        one_hot_train_y = self.one_hot_encode(y1)\n",
    "\n",
    "        for i in range(self.iterations):\n",
    "            y_pred = self.forward_pass(Z.T)\n",
    "            pred1 = np.argmax(y_pred,axis=0)\n",
    "            cost = self.cost_function(one_hot_train_y.T,y_pred)\n",
    "            self.backward_pass(y_pred,one_hot_train_y.T,Z)\n",
    "            self.costs.append(cost)\n",
    "\n",
    "    \n",
    "    def predict(self, Z, y1):\n",
    "        predictions = []\n",
    "        output = self.forward_pass(Z.T)\n",
    "        pred = np.argmax(output,axis=0)\n",
    "        return np.mean(y1==pred)\n",
    "\n",
    " \n",
    "    def plot_cost(self,title1):\n",
    "        plt.figure()\n",
    "        plt.plot(np.arange(len(self.costs)), self.costs)\n",
    "        plt.xlabel(\"epochs\")\n",
    "        plt.ylabel(\"cost\")\n",
    "        plt.title(title1)\n",
    "        plt.show()\n",
    "    \n",
    "        "
   ]
  },
  {
   "cell_type": "markdown",
   "metadata": {},
   "source": [
    "### Applying Gradient Descent"
   ]
  },
  {
   "cell_type": "code",
   "execution_count": 471,
   "metadata": {},
   "outputs": [],
   "source": [
    "mlp = MultiLayerPerceptron()"
   ]
  },
  {
   "cell_type": "code",
   "execution_count": 472,
   "metadata": {},
   "outputs": [],
   "source": [
    "mlp.fit(projected_train_x,train_label)"
   ]
  },
  {
   "cell_type": "code",
   "execution_count": 473,
   "metadata": {},
   "outputs": [
    {
     "data": {
      "image/png": "[encoded data removed]",
      "text/plain": [
       "<Figure size 432x288 with 1 Axes>"
      ]
     },
     "metadata": {
      "needs_background": "light"
     },
     "output_type": "display_data"
    }
   ],
   "source": [
    "mlp.plot_cost('Without Momentum')"
   ]
  },
  {
   "cell_type": "code",
   "execution_count": 484,
   "metadata": {},
   "outputs": [
    {
     "name": "stdout",
     "output_type": "stream",
     "text": [
      "Training Accuracy without momentum : 55.00%\n"
     ]
    }
   ],
   "source": [
    "print(\"Training Accuracy without momentum : {:.2f}%\".format(mlp.predict(projected_train_x,train_label)*100))"
   ]
  },
  {
   "cell_type": "code",
   "execution_count": 485,
   "metadata": {
    "scrolled": true
   },
   "outputs": [
    {
     "name": "stdout",
     "output_type": "stream",
     "text": [
      "Testing Accuracy without momentum : 50.00%\n"
     ]
    }
   ],
   "source": [
    "print(\"Testing Accuracy without momentum : {:.2f}%\".format(mlp.predict(projected_test_x,test_label)*100))"
   ]
  },
  {
   "cell_type": "markdown",
   "metadata": {},
   "source": [
    "### Applying momentum"
   ]
  },
  {
   "cell_type": "code",
   "execution_count": 486,
   "metadata": {},
   "outputs": [],
   "source": [
    "mlp_mom = MultiLayerPerceptron(mf=0.9,optimizer='momentum')"
   ]
  },
  {
   "cell_type": "code",
   "execution_count": 487,
   "metadata": {},
   "outputs": [],
   "source": [
    "mlp_mom.fit(projected_train_x,train_label)"
   ]
  },
  {
   "cell_type": "code",
   "execution_count": 489,
   "metadata": {},
   "outputs": [
    {
     "data": {
      "image/png": "[encoded data removed]",
      "text/plain": [
       "<Figure size 432x288 with 1 Axes>"
      ]
     },
     "metadata": {
      "needs_background": "light"
     },
     "output_type": "display_data"
    }
   ],
   "source": [
    "mlp_mom.plot_cost('With momentum')"
   ]
  },
  {
   "cell_type": "code",
   "execution_count": 490,
   "metadata": {},
   "outputs": [
    {
     "name": "stdout",
     "output_type": "stream",
     "text": [
      "Training Accuracy with momentum : 65.00%\n"
     ]
    }
   ],
   "source": [
    "print(\"Training Accuracy with momentum : {:.2f}%\".format(mlp_mom.predict(projected_train_x,train_label)*100))"
   ]
  },
  {
   "cell_type": "code",
   "execution_count": 491,
   "metadata": {},
   "outputs": [
    {
     "name": "stdout",
     "output_type": "stream",
     "text": [
      "Testing Accuracy with momentum : 60.00%\n"
     ]
    }
   ],
   "source": [
    "print(\"Testing Accuracy with momentum : {:.2f}%\".format(mlp_mom.predict(projected_test_x,test_label)*100))"
   ]
  },
  {
   "cell_type": "markdown",
   "metadata": {},
   "source": [
    "##### Loss decreases with increase in epoch"
   ]
  },
  {
   "cell_type": "markdown",
   "metadata": {},
   "source": [
    "## 15 Neurons in Hidden Layer"
   ]
  },
  {
   "cell_type": "markdown",
   "metadata": {},
   "source": [
    "### Without Momentum"
   ]
  },
  {
   "cell_type": "code",
   "execution_count": 493,
   "metadata": {},
   "outputs": [],
   "source": [
    "mlp_15 = MultiLayerPerceptron(layers=[12,15,15,2])"
   ]
  },
  {
   "cell_type": "code",
   "execution_count": 494,
   "metadata": {},
   "outputs": [],
   "source": [
    "mlp_15.fit(projected_train_x,train_label)"
   ]
  },
  {
   "cell_type": "code",
   "execution_count": 495,
   "metadata": {},
   "outputs": [
    {
     "data": {
      "image/png": "[encoded data removed]",
      "text/plain": [
       "<Figure size 432x288 with 1 Axes>"
      ]
     },
     "metadata": {
      "needs_background": "light"
     },
     "output_type": "display_data"
    }
   ],
   "source": [
    "mlp_15.plot_cost('Without Momentum')"
   ]
  },
  {
   "cell_type": "code",
   "execution_count": 496,
   "metadata": {},
   "outputs": [
    {
     "name": "stdout",
     "output_type": "stream",
     "text": [
      "Training Accuracy without momentum : 65.00%\n"
     ]
    }
   ],
   "source": [
    "print(\"Training Accuracy without momentum : {:.2f}%\".format(mlp_15.predict(projected_train_x,train_label)*100))"
   ]
  },
  {
   "cell_type": "code",
   "execution_count": 497,
   "metadata": {},
   "outputs": [
    {
     "name": "stdout",
     "output_type": "stream",
     "text": [
      "Testing Accuracy without momentum : 40.00%\n"
     ]
    }
   ],
   "source": [
    "print(\"Testing Accuracy without momentum : {:.2f}%\".format(mlp_15.predict(projected_test_x,test_label)*100))"
   ]
  },
  {
   "cell_type": "markdown",
   "metadata": {},
   "source": [
    "### With Momentum"
   ]
  },
  {
   "cell_type": "code",
   "execution_count": 503,
   "metadata": {},
   "outputs": [],
   "source": [
    "mlp_mom_15 = MultiLayerPerceptron(layers=[12,15,15,2],mf=0.9,optimizer='momentum')"
   ]
  },
  {
   "cell_type": "code",
   "execution_count": 504,
   "metadata": {},
   "outputs": [],
   "source": [
    "mlp_mom_15.fit(projected_train_x,train_label)"
   ]
  },
  {
   "cell_type": "code",
   "execution_count": 505,
   "metadata": {},
   "outputs": [
    {
     "data": {
      "image/png": "[encoded data removed]",
      "text/plain": [
       "<Figure size 432x288 with 1 Axes>"
      ]
     },
     "metadata": {
      "needs_background": "light"
     },
     "output_type": "display_data"
    }
   ],
   "source": [
    "mlp_mom_15.plot_cost('With momentum')"
   ]
  },
  {
   "cell_type": "code",
   "execution_count": 506,
   "metadata": {},
   "outputs": [
    {
     "name": "stdout",
     "output_type": "stream",
     "text": [
      "Training Accuracy with momentum : 75.00%\n"
     ]
    }
   ],
   "source": [
    "print(\"Training Accuracy with momentum : {:.2f}%\".format(mlp_mom_15.predict(projected_train_x,train_label)*100))"
   ]
  },
  {
   "cell_type": "code",
   "execution_count": 507,
   "metadata": {},
   "outputs": [
    {
     "name": "stdout",
     "output_type": "stream",
     "text": [
      "Testing Accuracy with momentum : 60.00%\n"
     ]
    }
   ],
   "source": [
    "print(\"Testing Accuracy with momentum : {:.2f}%\".format(mlp_mom_15.predict(projected_test_x,test_label)*100))"
   ]
  }
 ],
 "metadata": {
  "kernelspec": {
   "display_name": "Python 3",
   "language": "python",
   "name": "python3"
  },
  "language_info": {
   "codemirror_mode": {
    "name": "ipython",
    "version": 3
   },
   "file_extension": ".py",
   "mimetype": "text/x-python",
   "name": "python",
   "nbconvert_exporter": "python",
   "pygments_lexer": "ipython3",
   "version": "3.8.3"
  }
 },
 "nbformat": 4,
 "nbformat_minor": 5
}
