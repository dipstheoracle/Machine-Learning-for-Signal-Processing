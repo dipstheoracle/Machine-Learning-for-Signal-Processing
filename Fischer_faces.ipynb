{
 "cells": [
  {
   "cell_type": "markdown",
   "metadata": {},
   "source": [
    "# Problem Statement\n",
    "\n",
    "\n",
    "#### 15 subject faces with happy/sad emotion are provided in the data. Each image is of 100x100 matrix.\n",
    "#### Perform PCA on to reduce the dimension from 10000 to K (using PCA for high dimensional data) \n",
    "#### and then perform LDA to one dimension. Plot the one dimension features for each image. \n",
    "#### Select the optimum threshold to classify the emotion and report the classification accuracy on the test data.\n",
    "#### What is the best choice of K which gives the maximum separability ?"
   ]
  },
  {
   "cell_type": "markdown",
   "metadata": {},
   "source": [
    "## Libraries"
   ]
  },
  {
   "cell_type": "code",
   "execution_count": 1,
   "metadata": {},
   "outputs": [],
   "source": [
    "import os\n",
    "import numpy as np\n",
    "import matplotlib.image as mpimg\n",
    "import matplotlib.pyplot as plt"
   ]
  },
  {
   "cell_type": "markdown",
   "metadata": {},
   "source": [
    "## Load Images"
   ]
  },
  {
   "cell_type": "code",
   "execution_count": 3,
   "metadata": {},
   "outputs": [],
   "source": [
    "def load_images(folder):\n",
    "    images = []\n",
    "    label = []\n",
    "    for filename in os.listdir(folder):\n",
    "        img = mpimg.imread(os.path.join(folder, filename))\n",
    "        label.append(filename.split('.')[1])\n",
    "        if img is not None:\n",
    "            images.append(img)\n",
    "    return images,label"
   ]
  },
  {
   "cell_type": "code",
   "execution_count": 4,
   "metadata": {},
   "outputs": [],
   "source": [
    "trainfolder=\"./emotion_classification/train\"\n",
    "[train_images,train_label] = load_images(trainfolder)\n",
    "\n",
    "testfolder=\"./emotion_classification/test\"\n",
    "[test_images,test_label] = load_images(testfolder)"
   ]
  },
  {
   "cell_type": "markdown",
   "metadata": {},
   "source": [
    "### Train Data"
   ]
  },
  {
   "cell_type": "code",
   "execution_count": 31,
   "metadata": {},
   "outputs": [],
   "source": [
    "train_images = np.array(train_images)\n",
    "train_label = np.array(train_label)"
   ]
  },
  {
   "cell_type": "markdown",
   "metadata": {},
   "source": [
    "### Test Data"
   ]
  },
  {
   "cell_type": "code",
   "execution_count": 5,
   "metadata": {},
   "outputs": [],
   "source": [
    "test_images = np.array(test_images)\n",
    "test_label = np.array(test_label)"
   ]
  },
  {
   "cell_type": "markdown",
   "metadata": {},
   "source": [
    "### Standardizing Input Matrix"
   ]
  },
  {
   "cell_type": "code",
   "execution_count": 7,
   "metadata": {},
   "outputs": [],
   "source": [
    "# Calculating X(input matrix)\n",
    "\n",
    "X = np.zeros((10201,20))\n",
    "for i in range(20):\n",
    "    X[:,i:i+1] = train_images[i].reshape(10201,1)\n",
    "mean = np.sum(X,1)\n",
    "mean = mean.reshape(10201,1)\n",
    "mean = mean/20\n",
    "\n",
    "X = X - mean"
   ]
  },
  {
   "cell_type": "code",
   "execution_count": 8,
   "metadata": {},
   "outputs": [
    {
     "data": {
      "text/plain": [
       "(10201, 20)"
      ]
     },
     "execution_count": 8,
     "metadata": {},
     "output_type": "execute_result"
    }
   ],
   "source": [
    "X.shape"
   ]
  },
  {
   "cell_type": "markdown",
   "metadata": {},
   "source": [
    "## Performing PCA"
   ]
  },
  {
   "cell_type": "code",
   "execution_count": 9,
   "metadata": {},
   "outputs": [],
   "source": [
    "K=15"
   ]
  },
  {
   "cell_type": "code",
   "execution_count": 11,
   "metadata": {},
   "outputs": [],
   "source": [
    "def eigen(A):\n",
    "    eigenValues, eigenVectors = np.linalg.eig(A)\n",
    "    idx = np.argsort(eigenValues)[::-1]\n",
    "    eigenValues = eigenValues[idx]\n",
    "    eigenVectors = np.real(eigenVectors[:,idx])\n",
    "    return (eigenValues, eigenVectors)\n",
    "    "
   ]
  },
  {
   "cell_type": "code",
   "execution_count": 16,
   "metadata": {},
   "outputs": [],
   "source": [
    "#Covariance Matrix S\n",
    "S = np.dot(X.T,X)\n",
    "S = S/20\n",
    "\n",
    "[eig,eig_vec] = eigen(S)\n",
    "\n",
    "eig1 = 20 * eig[:K]\n",
    "eig1 = eig1 ** (-0.5)\n",
    "D = np.diag(eig1)\n",
    "\n",
    "eig_vec1 = eig_vec[:,0:K]\n",
    "\n",
    "U = np.dot(X,eig_vec1)\n",
    "U = np.dot(U,D)\n",
    "    "
   ]
  },
  {
   "cell_type": "code",
   "execution_count": 17,
   "metadata": {},
   "outputs": [],
   "source": [
    "#Projected Output\n",
    "Y = np.dot(U.T,X)"
   ]
  },
  {
   "cell_type": "code",
   "execution_count": 18,
   "metadata": {},
   "outputs": [
    {
     "data": {
      "text/plain": [
       "(15, 20)"
      ]
     },
     "execution_count": 18,
     "metadata": {},
     "output_type": "execute_result"
    }
   ],
   "source": [
    "Y.shape"
   ]
  },
  {
   "cell_type": "markdown",
   "metadata": {},
   "source": [
    "# Performing LDA on PCA output"
   ]
  },
  {
   "cell_type": "code",
   "execution_count": 21,
   "metadata": {},
   "outputs": [
    {
     "data": {
      "image/png": "[encoded data removed]",
      "text/plain": [
       "<Figure size 432x288 with 1 Axes>"
      ]
     },
     "metadata": {
      "needs_background": "light"
     },
     "output_type": "display_data"
    }
   ],
   "source": [
    "idx_happy = []\n",
    "idx_sad = []\n",
    "i=0\n",
    "mean_happy = np.zeros((K,1))\n",
    "mean_sad = np.zeros((K,1))\n",
    "mean_lda = np.zeros((K,1))\n",
    "for x in train_label:\n",
    "    if x=='happy' :\n",
    "        idx_happy.append(i)\n",
    "        mean_happy[:,0] = mean_happy[:,0] + Y[:,i]\n",
    "    elif x=='sad':\n",
    "        idx_sad.append(i)\n",
    "        mean_sad[:,0] = mean_sad[:,0] + Y[:,i]\n",
    "    mean_lda[:,0] = mean_lda[:,0] + Y[:,i]\n",
    "    i=i+1\n",
    "mean_lda = mean_lda*0.05\n",
    "mean_happy = mean_happy/len(idx_happy)\n",
    "mean_sad = mean_sad/len(idx_sad)\n",
    "\n",
    "mean_lda = mean_lda.reshape(K,1)\n",
    "mean_happy = mean_happy.reshape(K,1)\n",
    "mean_sad = mean_sad.reshape(K,1)\n",
    "#################################################################\n",
    "#------------Between Class Covariance----------------------------\n",
    "Sb = len(idx_happy)*np.dot((mean_happy - mean_lda),(mean_happy - mean_lda).T) + len(idx_sad)*np.dot((mean_sad - mean_lda),(mean_sad - mean_lda).T)\n",
    "\n",
    "#################################################################\n",
    "#------------Within Class Covariance-----------------------------\n",
    "Sw = np.zeros((K,K))\n",
    "x1 = np.zeros((K,K))\n",
    "x2 = np.zeros((K,K))\n",
    "for idx1 in idx_happy:\n",
    "    v = ((Y[:,idx1:idx1+1]).reshape(K,1))-mean_happy\n",
    "    x1 = x1 + np.dot(v,v.T)\n",
    "\n",
    "for idx2 in idx_sad:\n",
    "    v = ((Y[:,idx2:idx2+1]).reshape(K,1)) - mean_sad\n",
    "    x2 = x2 + np.dot(v,v.T)\n",
    "\n",
    "Sw = x1 + x2\n",
    "\n",
    "Sw_inv = np.linalg.inv(Sw)\n",
    "eig_lda,eig_vec_lda = eigen(np.dot(Sw_inv,Sb))\n",
    "\n",
    "w = eig_vec_lda[:,0]\n",
    "\n",
    "fx = np.dot(w.T,Y)\n",
    "\n",
    "fx_happy = fx[idx_happy]\n",
    "fx_sad = fx[idx_sad]\n",
    "\n",
    "plt.title(\"Plot of LDA output of train images\")\n",
    "plt.scatter(fx_happy,np.zeros_like(fx_happy),color='red')\n",
    "plt.scatter(fx_sad,np.zeros_like(fx_sad),color='blue')\n",
    "plt.axvline(x=0,linestyle=\"--\")\n",
    "plt.legend([\"happy\", \"sad\"])\n",
    "plt.yticks([])\n",
    "plt.show()"
   ]
  },
  {
   "cell_type": "code",
   "execution_count": 22,
   "metadata": {},
   "outputs": [
    {
     "name": "stdout",
     "output_type": "stream",
     "text": [
      "Training Acccuracy in % :  100.0\n"
     ]
    }
   ],
   "source": [
    "threshold = 0\n",
    "wrong_sad_tr = len([i for i in fx_sad if i < threshold])\n",
    "wrong_happy_tr = len([i for i in fx_happy if i > threshold])\n",
    "Training_accuracy = ((20-wrong_sad_tr-wrong_happy_tr)/20)*100\n",
    "print(\"Training Acccuracy in % : \",Training_accuracy)"
   ]
  },
  {
   "cell_type": "markdown",
   "metadata": {},
   "source": [
    "## Testing"
   ]
  },
  {
   "cell_type": "code",
   "execution_count": 23,
   "metadata": {},
   "outputs": [
    {
     "data": {
      "image/png": "[encoded data removed]",
      "text/plain": [
       "<Figure size 432x288 with 1 Axes>"
      ]
     },
     "metadata": {
      "needs_background": "light"
     },
     "output_type": "display_data"
    }
   ],
   "source": [
    "X_test = np.zeros((10201,10))\n",
    "for i in range(10):\n",
    "    X_test[:,i:i+1] = test_images[i].reshape(10201,1)\n",
    "mean_te = np.sum(X_test,1)\n",
    "mean_te = mean_te.reshape(10201,1)\n",
    "mean_te = mean_te/10\n",
    "\n",
    "X_test = X_test - mean_te\n",
    "\n",
    "Y_test = np.dot(U.T,X_test)\n",
    "\n",
    "fx_test = np.dot(w.T,Y_test)\n",
    "\n",
    "j=0\n",
    "idx_happy_te=[]\n",
    "idx_sad_te=[]\n",
    "for x in test_label:\n",
    "    if x=='happy':\n",
    "        idx_happy_te.append(j)\n",
    "    elif x=='sad':\n",
    "        idx_sad_te.append(j)\n",
    "    j=j+1\n",
    "\n",
    "fx_test_happy = fx_test[idx_happy_te]\n",
    "fx_test_sad = fx_test[idx_sad_te]\n",
    "\n",
    "plt.title(\"Plot of LDA output of test images\")\n",
    "plt.scatter(fx_test_happy,np.zeros_like(fx_test_happy),color='red')\n",
    "plt.scatter(fx_test_sad,np.zeros_like(fx_test_sad),color='blue')\n",
    "plt.axvline(x=0,linestyle=\"--\")\n",
    "plt.legend([\"happy\", \"sad\"])\n",
    "plt.yticks([])\n",
    "plt.show()"
   ]
  },
  {
   "cell_type": "code",
   "execution_count": 24,
   "metadata": {},
   "outputs": [
    {
     "name": "stdout",
     "output_type": "stream",
     "text": [
      "Testing Acccuracy in % :  90.0\n"
     ]
    }
   ],
   "source": [
    "threshold = 0\n",
    "wrong_sad_te = len([i for i in fx_test_sad if i < threshold])\n",
    "wrong_happy_te = len([i for i in fx_test_happy if i > threshold])\n",
    "Testing_accuracy = ((10-wrong_sad_te-wrong_happy_te)/10)*100\n",
    "print(\"Testing Acccuracy in % : \",Testing_accuracy)"
   ]
  },
  {
   "cell_type": "code",
   "execution_count": 25,
   "metadata": {},
   "outputs": [
    {
     "name": "stdout",
     "output_type": "stream",
     "text": [
      "Threshold = 0\n",
      "K = 15\n"
     ]
    }
   ],
   "source": [
    "print(\"Threshold = 0\")\n",
    "print(\"K = 15\")"
   ]
  }
 ],
 "metadata": {
  "kernelspec": {
   "display_name": "Python 3",
   "language": "python",
   "name": "python3"
  },
  "language_info": {
   "codemirror_mode": {
    "name": "ipython",
    "version": 3
   },
   "file_extension": ".py",
   "mimetype": "text/x-python",
   "name": "python",
   "nbconvert_exporter": "python",
   "pygments_lexer": "ipython3",
   "version": "3.8.3"
  }
 },
 "nbformat": 4,
 "nbformat_minor": 4
}
